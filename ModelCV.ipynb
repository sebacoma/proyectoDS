{
 "cells": [
  {
   "cell_type": "code",
   "execution_count": 2,
   "metadata": {},
   "outputs": [],
   "source": [
    "import cv2\n",
    "import numpy as np"
   ]
  },
  {
   "cell_type": "code",
   "execution_count": 4,
   "metadata": {},
   "outputs": [
    {
     "ename": "error",
     "evalue": "OpenCV(4.8.0) /Users/runner/work/opencv-python/opencv-python/opencv/modules/imgproc/src/hough.cpp:2269: error: (-215:Assertion failed) !_image.empty() && _image.type() == CV_8UC1 && (_image.isMat() || _image.isUMat()) in function 'HoughCircles'\n",
     "output_type": "error",
     "traceback": [
      "\u001b[0;31m---------------------------------------------------------------------------\u001b[0m",
      "\u001b[0;31merror\u001b[0m                                     Traceback (most recent call last)",
      "\u001b[0;32m/var/folders/ym/jpjgs22n25v0ymdlw_lg1fpm0000gn/T/ipykernel_23417/1713207726.py\u001b[0m in \u001b[0;36m<module>\u001b[0;34m\u001b[0m\n\u001b[1;32m     37\u001b[0m \u001b[0;34m\u001b[0m\u001b[0m\n\u001b[1;32m     38\u001b[0m \u001b[0;31m# Detecta círculos en la imagen en color\u001b[0m\u001b[0;34m\u001b[0m\u001b[0;34m\u001b[0m\u001b[0m\n\u001b[0;32m---> 39\u001b[0;31m círculos = cv2.HoughCircles(\n\u001b[0m\u001b[1;32m     40\u001b[0m     \u001b[0mimagen\u001b[0m\u001b[0;34m,\u001b[0m\u001b[0;34m\u001b[0m\u001b[0;34m\u001b[0m\u001b[0m\n\u001b[1;32m     41\u001b[0m     cv2.HOUGH_GRADIENT, dp=1, minDist=20, param1=50, param2=30, minRadius=5, maxRadius=100)\n",
      "\u001b[0;31merror\u001b[0m: OpenCV(4.8.0) /Users/runner/work/opencv-python/opencv-python/opencv/modules/imgproc/src/hough.cpp:2269: error: (-215:Assertion failed) !_image.empty() && _image.type() == CV_8UC1 && (_image.isMat() || _image.isUMat()) in function 'HoughCircles'\n"
     ]
    }
   ],
   "source": [
    "# # Lee la imagen\n",
    "# imagen = cv2.imread('./Simulated_3.jpg')\n",
    "# gray = cv2.cvtColor(imagen, cv2.COLOR_BGR2GRAY)\n",
    "\n",
    "# # Detecta círculos en la imagen\n",
    "# círculos = cv2.HoughCircles(\n",
    "#     gray, \n",
    "#     cv2.HOUGH_GRADIENT, dp=1, minDist=20, param1=50, param2=30, minRadius=5, maxRadius=100)\n",
    "\n",
    "# # Si se encontraron círculos, dibújalos en la imagen original\n",
    "# if círculos is not None:\n",
    "#     círculos = np.uint16(np.around(círculos))\n",
    "#     for circulo in círculos[0, :]:\n",
    "#         centro = (circulo[0], circulo[1]) # Coordenadas del centro del círculo\n",
    "#         radio = circulo[2] # Radio del círculo\n",
    "#         # Dibuja el círculo en la imagen original\n",
    "#         cv2.circle(imagen, centro, radio, (0, 255, 0), 2)\n",
    "\n",
    "#         # Puedes imprimir las coordenadas y el radio del círculo\n",
    "#         print('Centro: {}, Radio: {}'.format(centro, radio))\n",
    "\n",
    "#     # Muestra la imagen con los círculos dibujados\n",
    "#     cv2.imshow('Círculos encontrados', imagen)\n",
    "#     cv2.waitKey(0)\n",
    "#     cv2.destroyAllWindows()\n",
    "# else:\n",
    "#     print('No se encontraron círculos en la imagen.')\n",
    "\n",
    "import cv2\n",
    "import numpy as np\n",
    "\n",
    "# Lee la imagen en color\n",
    "imagen = cv2.imread('./Simulated_3.jpg')\n",
    "\n",
    "# Convierte la imagen a escala de grises (si es necesario)\n",
    "# gris = cv2.cvtColor(imagen, cv2.COLOR_BGR2GRAY)\n",
    "\n",
    "# Detecta círculos en la imagen en color\n",
    "círculos = cv2.HoughCircles(\n",
    "    imagen,\n",
    "    cv2.HOUGH_GRADIENT, dp=1, minDist=20, param1=50, param2=30, minRadius=5, maxRadius=100)\n",
    "\n",
    "# Si se encontraron círculos, dibújalos en la imagen original\n",
    "if círculos is not None:\n",
    "    círculos = np.uint16(np.around(círculos))\n",
    "    for circulo in círculos[0, :]:\n",
    "        centro = (circulo[0], circulo[1])  # Coordenadas del centro del círculo\n",
    "        radio = circulo[2]  # Radio del círculo\n",
    "        # Dibuja el círculo en la imagen original\n",
    "        cv2.circle(imagen, centro, radio, (0, 255, 0), 2)\n",
    "\n",
    "        # Puedes imprimir las coordenadas y el radio del círculo\n",
    "        print('Centro: {}, Radio: {}'.format(centro, radio))\n",
    "\n",
    "    # Muestra la imagen con los círculos dibujados\n",
    "    cv2.imshow('Círculos encontrados', imagen)\n",
    "    cv2.waitKey(0)\n",
    "    cv2.destroyAllWindows()\n",
    "else:\n",
    "    print('No se encontraron círculos en la imagen.')\n"
   ]
  }
 ],
 "metadata": {
  "kernelspec": {
   "display_name": "base",
   "language": "python",
   "name": "python3"
  },
  "language_info": {
   "codemirror_mode": {
    "name": "ipython",
    "version": 3
   },
   "file_extension": ".py",
   "mimetype": "text/x-python",
   "name": "python",
   "nbconvert_exporter": "python",
   "pygments_lexer": "ipython3",
   "version": "3.9.13"
  }
 },
 "nbformat": 4,
 "nbformat_minor": 2
}
