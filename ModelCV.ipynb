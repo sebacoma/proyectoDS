{
 "cells": [
  {
   "cell_type": "code",
   "execution_count": 3,
   "metadata": {},
   "outputs": [],
   "source": [
    "import cv2\n",
    "import numpy as np"
   ]
  },
  {
   "cell_type": "code",
   "execution_count": 5,
   "metadata": {},
   "outputs": [
    {
     "name": "stdout",
     "output_type": "stream",
     "text": [
      "Centro: (714, 694), Radio: 50\n",
      "Centro: (800, 588), Radio: 29\n",
      "Centro: (214, 440), Radio: 23\n"
     ]
    },
    {
     "ename": "",
     "evalue": "",
     "output_type": "error",
     "traceback": [
      "\u001b[1;31mThe Kernel crashed while executing code in the the current cell or a previous cell. Please review the code in the cell(s) to identify a possible cause of the failure. Click <a href='https://aka.ms/vscodeJupyterKernelCrash'>here</a> for more info. View Jupyter <a href='command:jupyter.viewOutput'>log</a> for further details."
     ]
    }
   ],
   "source": [
    "# Lee la imagen\n",
    "imagen = cv2.imread('./Simulated_3.jpg')\n",
    "gray = cv2.cvtColor(imagen, cv2.COLOR_BGR2GRAY)\n",
    "\n",
    "# Detecta círculos en la imagen\n",
    "círculos = cv2.HoughCircles(\n",
    "    gray, \n",
    "    cv2.HOUGH_GRADIENT, dp=1, minDist=20, param1=50, param2=30, minRadius=5, maxRadius=100)\n",
    "\n",
    "# Si se encontraron círculos, dibújalos en la imagen original\n",
    "if círculos is not None:\n",
    "    círculos = np.uint16(np.around(círculos))\n",
    "    for circulo in círculos[0, :]:\n",
    "        centro = (circulo[0], circulo[1]) # Coordenadas del centro del círculo\n",
    "        radio = circulo[2] # Radio del círculo\n",
    "        # Dibuja el círculo en la imagen original\n",
    "        cv2.circle(imagen, centro, radio, (0, 255, 0), 2)\n",
    "\n",
    "        # Puedes imprimir las coordenadas y el radio del círculo\n",
    "        print('Centro: {}, Radio: {}'.format(centro, radio))\n",
    "\n",
    "    # Muestra la imagen con los círculos dibujados\n",
    "    cv2.imshow('Círculos encontrados', imagen)\n",
    "    cv2.waitKey(0)\n",
    "    cv2.destroyAllWindows()\n",
    "else:\n",
    "    print('No se encontraron círculos en la imagen.')\n",
    "\n"
   ]
  }
 ],
 "metadata": {
  "kernelspec": {
   "display_name": "base",
   "language": "python",
   "name": "python3"
  },
  "language_info": {
   "codemirror_mode": {
    "name": "ipython",
    "version": 3
   },
   "file_extension": ".py",
   "mimetype": "text/x-python",
   "name": "python",
   "nbconvert_exporter": "python",
   "pygments_lexer": "ipython3",
   "version": "3.9.13"
  }
 },
 "nbformat": 4,
 "nbformat_minor": 2
}
